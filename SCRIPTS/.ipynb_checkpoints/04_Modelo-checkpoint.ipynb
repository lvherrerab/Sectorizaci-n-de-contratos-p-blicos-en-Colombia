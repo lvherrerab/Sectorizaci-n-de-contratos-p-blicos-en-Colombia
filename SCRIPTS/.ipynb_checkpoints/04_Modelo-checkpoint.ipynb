{
 "cells": [
  {
   "cell_type": "markdown",
   "id": "0181570f",
   "metadata": {},
   "source": [
    "# MODELO DE K-MEDIAS"
   ]
  },
  {
   "cell_type": "code",
   "execution_count": 1,
   "id": "8a2a0d3c",
   "metadata": {},
   "outputs": [],
   "source": [
    "import pandas as pd\n",
    "import numpy as np\n",
    "from sklearn.feature_extraction.text import TfidfVectorizer\n"
   ]
  },
  {
   "cell_type": "markdown",
   "id": "7d17d4b8",
   "metadata": {},
   "source": [
    "# Carga de la información"
   ]
  },
  {
   "cell_type": "code",
   "execution_count": 2,
   "id": "1092b270",
   "metadata": {},
   "outputs": [
    {
     "name": "stderr",
     "output_type": "stream",
     "text": [
      "/var/folders/x_/qk792zrs1j99glg4nzk35j2m0000gn/T/ipykernel_4272/2029262373.py:1: DtypeWarning: Columns (69,70) have mixed types. Specify dtype option on import or set low_memory=False.\n",
      "  df= pd.read_csv(\"https://raw.githubusercontent.com/lvherrerab/Sectorizaci-n-de-contratos-p-blicos-en-Colombia/main/OUTPUT/muestra_sincont_todas_varia.csv\")\n"
     ]
    }
   ],
   "source": [
    "df= pd.read_csv(\"https://raw.githubusercontent.com/lvherrerab/Sectorizaci-n-de-contratos-p-blicos-en-Colombia/main/OUTPUT/muestra_sincont_todas_varia.csv\")"
   ]
  },
  {
   "cell_type": "markdown",
   "id": "589c14ff",
   "metadata": {},
   "source": [
    "# Preprocesamiento"
   ]
  },
  {
   "cell_type": "code",
   "execution_count": 3,
   "id": "32dce80e",
   "metadata": {},
   "outputs": [
    {
     "name": "stdout",
     "output_type": "stream",
     "text": [
      "[[0. 0. 0. ... 0. 0. 0.]\n",
      " [0. 0. 0. ... 0. 0. 0.]\n",
      " [0. 0. 0. ... 0. 0. 0.]\n",
      " ...\n",
      " [0. 0. 0. ... 0. 0. 0.]\n",
      " [0. 0. 0. ... 0. 0. 0.]\n",
      " [0. 0. 0. ... 0. 0. 0.]]\n",
      "['00' '000' '0000' ... 'útica' 'útil' 'útiles']\n"
     ]
    }
   ],
   "source": [
    "\n",
    "# Crear un vectorizador TF-IDF\n",
    "tfidf_vectorizer = TfidfVectorizer()\n",
    "\n",
    "# Calcular la matriz TF-IDF\n",
    "tfidf_matrix = tfidf_vectorizer.fit_transform(df['objeto_del_contrato'])\n",
    "\n",
    "# Obtener los términos (palabras) del vocabulario\n",
    "terms = tfidf_vectorizer.get_feature_names_out()\n",
    "\n",
    "# Mostrar la matriz TF-IDF y el vocabulario\n",
    "print(tfidf_matrix.toarray())\n",
    "print(terms)\n"
   ]
  },
  {
   "cell_type": "markdown",
   "id": "8488adda",
   "metadata": {},
   "source": [
    "# Modelo"
   ]
  },
  {
   "cell_type": "code",
   "execution_count": 4,
   "id": "c01f3681",
   "metadata": {},
   "outputs": [
    {
     "name": "stderr",
     "output_type": "stream",
     "text": [
      "/Users/linaherrera/anaconda3/lib/python3.11/site-packages/sklearn/cluster/_kmeans.py:870: FutureWarning: The default value of `n_init` will change from 10 to 'auto' in 1.4. Set the value of `n_init` explicitly to suppress the warning\n",
      "  warnings.warn(\n"
     ]
    },
    {
     "name": "stdout",
     "output_type": "stream",
     "text": [
      "[ 2  2 10 ...  5 16  5]\n"
     ]
    }
   ],
   "source": [
    "from sklearn.cluster import KMeans\n",
    "\n",
    "# Crear una instancia del modelo K-Means con el número deseado de clusters (K)\n",
    "kmeans = KMeans(n_clusters=24)\n",
    "\n",
    "# Ajustar el modelo a tus datos\n",
    "kmeans.fit(tfidf_matrix)\n",
    "\n",
    "# Asignar etiquetas de cluster a cada documento\n",
    "labels = kmeans.labels_\n",
    "\n",
    "# Puedes acceder a los centroides de los clusters si lo deseas\n",
    "centroids = kmeans.cluster_centers_\n",
    "\n",
    "# Visualizar las etiquetas asignadas a cada documento\n",
    "print(labels)\n"
   ]
  },
  {
   "cell_type": "code",
   "execution_count": 5,
   "id": "4a537f9b",
   "metadata": {},
   "outputs": [
    {
     "data": {
      "text/plain": [
       "(48689,)"
      ]
     },
     "execution_count": 5,
     "metadata": {},
     "output_type": "execute_result"
    }
   ],
   "source": [
    "np.shape(labels)"
   ]
  },
  {
   "cell_type": "code",
   "execution_count": 6,
   "id": "7cc7faf2",
   "metadata": {},
   "outputs": [],
   "source": [
    "result = pd.concat([df, pd.DataFrame(labels)], axis=1)"
   ]
  },
  {
   "cell_type": "markdown",
   "id": "f476d5c9",
   "metadata": {},
   "source": [
    "# Métrica de desempeño"
   ]
  },
  {
   "cell_type": "markdown",
   "id": "a5941210",
   "metadata": {},
   "source": [
    "## Inercia"
   ]
  },
  {
   "cell_type": "code",
   "execution_count": null,
   "id": "0bc01679",
   "metadata": {},
   "outputs": [],
   "source": [
    "# Inercia: Este valor proporcionará una medida de cuán cerca están los puntos de sus respectivos centroides,\n",
    "# un valor pequeño indica que los clusters son más compactos y mejor definidos. \n",
    "\n",
    "inercia = kmeans.inertia_\n",
    "\n",
    "print(\"Inercia del modelo K-Means:\", inercia)"
   ]
  },
  {
   "cell_type": "code",
   "execution_count": null,
   "id": "2b36fcf3",
   "metadata": {},
   "outputs": [],
   "source": [
    "## "
   ]
  }
 ],
 "metadata": {
  "kernelspec": {
   "display_name": "Python 3 (ipykernel)",
   "language": "python",
   "name": "python3"
  },
  "language_info": {
   "codemirror_mode": {
    "name": "ipython",
    "version": 3
   },
   "file_extension": ".py",
   "mimetype": "text/x-python",
   "name": "python",
   "nbconvert_exporter": "python",
   "pygments_lexer": "ipython3",
   "version": "3.11.3"
  }
 },
 "nbformat": 4,
 "nbformat_minor": 5
}
