{
 "cells": [
  {
   "cell_type": "markdown",
   "id": "8887c4fa",
   "metadata": {},
   "source": [
    "# Notebook de ánalisis de información"
   ]
  },
  {
   "cell_type": "code",
   "execution_count": 1,
   "id": "046b286a",
   "metadata": {},
   "outputs": [],
   "source": [
    "# librerias base\n",
    "import math\n",
    "import os\n",
    "import shutil \n",
    "import sys\n",
    "\n",
    "#librerias externas\n",
    "import pandas\n",
    "import seaborn as sns\n",
    "import matplotlib.pyplot as plt\n",
    "import numpy as np\n",
    "import scipy.stats as sp  \n",
    "\n",
    "# librerias propias\n",
    "# Carpeta del proyecto\n",
    "dir_proyecto, _ = os.path.split(os.getcwd())\n",
    "sys.path.append(dir_proyecto)\n",
    "from SCRIPTS.funciones import *"
   ]
  },
  {
   "cell_type": "code",
   "execution_count": 2,
   "id": "98265ab7",
   "metadata": {},
   "outputs": [],
   "source": [
    "# Esta instrucción define el directorio local\n",
    "df = leer_parquet(os.path.join(dir_proyecto,'INPUTS'))\n",
    "df.head(2)"
   ]
  },
  {
   "cell_type": "code",
   "execution_count": 3,
   "id": "5a3099b2",
   "metadata": {},
   "outputs": [],
   "source": [
    "print(\"\\033[1mDimensiones de la data\\n\\033[0m\")\n",
    "\n",
    "print(\"Las dimensiones de la data son: \" +str(df.shape[0]) +\" filas y \" + str(df.shape[1])+ \" columnas\\n\")\n",
    "\n",
    "print(\"\\033[1mTipos de variables\\n\\033[0m\")\n",
    "\n",
    "print(df.info())"
   ]
  },
  {
   "cell_type": "markdown",
   "id": "add09957",
   "metadata": {},
   "source": [
    "Se cuenta con información de 39.884 contratos y cada uno con 71 variables descriptivas del mismo. \n",
    "\n",
    "\n",
    "Al cargar la data, se observa existen variables con una cantidad significativa de valores nulos, por lo tanto se realiza el siguiente tratamiento: "
   ]
  },
  {
   "cell_type": "markdown",
   "id": "d2621a89",
   "metadata": {},
   "source": [
    "### 1. Tratamiento de Valores null"
   ]
  },
  {
   "cell_type": "code",
   "execution_count": 4,
   "id": "3e10e794",
   "metadata": {},
   "outputs": [],
   "source": [
    "variables_con_nulos = df.isna().sum()\n",
    "\n",
    "# Filtrar variables con valores perdidos\n",
    "variables_con_nulos = variables_con_nulos[variables_con_nulos > 0]\n",
    "\n",
    "for variable, cantidad_nulos in variables_con_nulos.items():\n",
    "    print(f\"{variable}, {cantidad_nulos}\")\n",
    "    \n",
    "print(\"\\nSe tiene un total de \" + str(df.isna().sum().sum()) + \" datos pérdidos\")"
   ]
  },
  {
   "cell_type": "markdown",
   "id": "44210dcc",
   "metadata": {},
   "source": [
    "Teniendo en cuenta se tiene un total de 130.743 valores nulos, se realizará el siguiente tratamiento:\n",
    "    \n",
    "1. Se procederá a eliminar las variables relacionadas con fechas. Esto debido a que, además de tener una gran cantidad de valores nulos, consideramos que no tendrán un impacto significativo en el modelo propuesto para el estudio.\n",
    "    \n",
    "2. Así mismo se eliminaran las filas de las demás variables que representan menos del 1%."
   ]
  },
  {
   "cell_type": "code",
   "execution_count": 5,
   "id": "146d2875",
   "metadata": {},
   "outputs": [],
   "source": [
    "df = df.drop(['fecha_inicio_liquidacion','fecha_fin_liquidacion','fecha_de_inicio_de_ejecucion','fecha_de_fin_de_ejecucion','fecha_de_inicio_del_contrato'], axis=1)\n",
    "df = df.dropna()"
   ]
  },
  {
   "cell_type": "markdown",
   "id": "fb1b7af7",
   "metadata": {},
   "source": [
    "### 2. Selección inicial de variables."
   ]
  },
  {
   "cell_type": "markdown",
   "id": "dd093109",
   "metadata": {},
   "source": [
    "Después de una exhaustiva revisión del diccionario de datos disponibles en el conjunto de contratos electrónicos del SECOP II, que puede ser consultado en el enlace: https://www.datos.gov.co/Gastos-Gubernamentales/SECOP-II-Contratos-Electr-nicos/jbjy-vk9h, hemos determinado que algunas variables no serán consideradas en nuestro modelo de estudio debido a su falta de relevancia. Las variables que excluiremos son las siguientes: \n",
    "\n",
    "* 'Localización' y 'ciudad' son lo mismo por lo tanto dejamos ciudad. \n",
    "* Información detallada del proveedor elegido no será tomada en cuenta en nuestro análisis, ya que el princial objetivo es generar una clasificación por sectores que permita a los proveedores presentar sus postulaciones.\n",
    "* También excluiremos identificadores únicos dentro de cada contrato, como 'id_contrato', 'referencia_del_contrato', entre otros ya que no aportan información significativa para la clasificación. "
   ]
  },
  {
   "cell_type": "code",
   "execution_count": 6,
   "id": "5d4f3096",
   "metadata": {},
   "outputs": [],
   "source": [
    "df_final = df.drop(['localizaci_n','proceso_de_compra', 'id_contrato', 'referencia_del_contrato',\n",
    "                    'justificacion_modalidad_de','tipodocproveedor', 'documento_proveedor', 'proveedor_adjudicado',\n",
    "                    'es_grupo', 'es_pyme','estado_bpin', 'c_digo_bpin', 'anno_bpin','espostconflicto', 'urlproceso',\n",
    "                    'dias_adicionados','nombre_representante_legal','nacionalidad_representante_legal',\n",
    "                    'tipo_de_identificaci_n_representante_legal','identificaci_n_representante_legal', \n",
    "                    'g_nero_representante_legal','ultima_actualizacion','codigo_entidad', 'codigo_proveedor',\n",
    "                    'fecha_de_firma', 'fecha_de_fin_del_contrato'], axis=1)"
   ]
  },
  {
   "cell_type": "code",
   "execution_count": 7,
   "id": "18643211",
   "metadata": {},
   "outputs": [],
   "source": [
    "df_final.shape"
   ]
  },
  {
   "cell_type": "markdown",
   "id": "84a8020b",
   "metadata": {},
   "source": [
    "Se contará con 40 variables para ánalisis descriptivo. "
   ]
  },
  {
   "cell_type": "markdown",
   "id": "a4bb970f",
   "metadata": {},
   "source": [
    "### 3. Tipos de variables:"
   ]
  },
  {
   "cell_type": "markdown",
   "id": "e4f953ca",
   "metadata": {},
   "source": [
    "Se realizó el cambio de tipo de variables, teniendo en cuenta que esta considerando todas de tipo object, como se muestra a continuación: "
   ]
  },
  {
   "cell_type": "code",
   "execution_count": 8,
   "id": "f181b091",
   "metadata": {},
   "outputs": [],
   "source": [
    "df_final.info()"
   ]
  },
  {
   "cell_type": "code",
   "execution_count": 9,
   "id": "70147346",
   "metadata": {},
   "outputs": [],
   "source": [
    "df_final\n"
   ]
  },
  {
   "cell_type": "code",
   "execution_count": 10,
   "id": "d9aa4cea",
   "metadata": {},
   "outputs": [],
   "source": [
    "\n",
    "df_final['liquidaci_n'] = df['liquidaci_n'].apply(lambda x: 1 if x== \"Si\" else 0)\n",
    "df_final['habilita_pago_adelantado'] = df['habilita_pago_adelantado'].apply(lambda x: 1 if x== \"Si\" else 0)"
   ]
  },
  {
   "cell_type": "code",
   "execution_count": 11,
   "id": "23240235",
   "metadata": {},
   "outputs": [],
   "source": [
    "# Variables continuas: \n",
    "\n",
    "Variables_num = [\n",
    "    'valor_del_contrato',\n",
    "    'valor_de_pago_adelantado',\n",
    "    'valor_facturado',\n",
    "    'valor_pendiente_de_pago',\n",
    "    'valor_pagado',\n",
    "    'valor_amortizado',\n",
    "    'valor_pendiente_de',\n",
    "    'valor_pendiente_de_ejecucion',\n",
    "    'saldo_cdp',\n",
    "    'saldo_vigencia','presupuesto_general_de_la_nacion_pgn','recursos_de_credito','recursos_propios',\n",
    "    'sistema_general_de_regal_as','recursos_propios_alcald_as_gobernaciones_y_resguardos_ind_genas_']\n",
    "for i in Variables_num:\n",
    "    df_final[i] = df_final[i].astype(int)"
   ]
  },
  {
   "cell_type": "markdown",
   "id": "ec1d351c",
   "metadata": {},
   "source": [
    "### 4. Ánalisis descriptivo de variables continuas"
   ]
  },
  {
   "cell_type": "code",
   "execution_count": 12,
   "id": "80bd8492",
   "metadata": {
    "scrolled": false
   },
   "outputs": [],
   "source": [
    "def calcular_estadisticas(df:pd.DataFrame)->pd.DataFrame:\n",
    "    estadisticas = pd.DataFrame((df.describe(percentiles = [0.1,0.2,0.3,0.4,0.5,0.6,0.7,0.8,0.9])))\n",
    "    estadisticas = estadisticas.T\n",
    "    estadisticas['range'] = estadisticas['max']- estadisticas['min']\n",
    "    estadisticas['median'] = [np.median(df.loc[:,i]) for i in estadisticas.index]\n",
    "    estadisticas['skew'] = [sp.skew(df.loc[:,i]) for i in estadisticas.index]\n",
    "    estadisticas['kurtosis'] = [sp.kurtosis(df.loc[:,i]) for i in estadisticas.index]\n",
    "    estadisticas = estadisticas[['count', 'mean', 'median', 'std', 'min','50%', '60%', '90%', 'max']].round(2)\n",
    "    return estadisticas\n",
    "\n",
    "\n",
    "\n",
    "print(\"\\n**Estadísticas de resumen de las variables continuas\\n\")\n",
    "display(calcular_estadisticas(df_final[Variables_num]))"
   ]
  },
  {
   "cell_type": "code",
   "execution_count": 13,
   "id": "2f17e9d4",
   "metadata": {},
   "outputs": [],
   "source": [
    "df_final"
   ]
  },
  {
   "cell_type": "markdown",
   "id": "1b3487c7",
   "metadata": {},
   "source": [
    "# Análisis de variables"
   ]
  },
  {
   "cell_type": "code",
   "execution_count": 14,
   "id": "fdd56438",
   "metadata": {},
   "outputs": [],
   "source": [
    "df = df_final.iloc[:,:-1]"
   ]
  },
  {
   "cell_type": "code",
   "execution_count": 15,
   "id": "7f038556",
   "metadata": {},
   "outputs": [],
   "source": [
    "df.head(3)"
   ]
  },
  {
   "cell_type": "code",
   "execution_count": 16,
   "id": "f12d3433",
   "metadata": {},
   "outputs": [],
   "source": [
    "df['orden'].unique()"
   ]
  },
  {
   "cell_type": "code",
   "execution_count": 17,
   "id": "169f5724",
   "metadata": {},
   "outputs": [],
   "source": [
    "df['destino_gasto'].unique()"
   ]
  },
  {
   "cell_type": "code",
   "execution_count": 18,
   "id": "97263c18",
   "metadata": {},
   "outputs": [],
   "source": [
    "df['origen_de_los_recursos'].unique()"
   ]
  },
  {
   "cell_type": "code",
   "execution_count": 19,
   "id": "1a1bf1ca",
   "metadata": {},
   "outputs": [],
   "source": [
    "import matplotlib.pyplot as plt\n",
    "fig, ax = plt.subplots()\n",
    "ax.violinplot(df['valor_del_contrato'])\n",
    "plt.show()"
   ]
  },
  {
   "cell_type": "code",
   "execution_count": 20,
   "id": "21251398",
   "metadata": {},
   "outputs": [],
   "source": [
    "# Gráfico de densidad\n",
    "sns.kdeplot(df['valor_del_contrato'])"
   ]
  },
  {
   "cell_type": "code",
   "execution_count": 21,
   "id": "d1bf5ffc",
   "metadata": {},
   "outputs": [],
   "source": [
    "valor = df['valor_del_contrato'].sort_values(ascending = False)"
   ]
  },
  {
   "cell_type": "code",
   "execution_count": 22,
   "id": "1ce96b7a",
   "metadata": {},
   "outputs": [],
   "source": [
    "valor.iloc[0:60]"
   ]
  },
  {
   "cell_type": "markdown",
   "id": "bb4e89f0",
   "metadata": {},
   "source": [
    "# Variables categóricas"
   ]
  },
  {
   "cell_type": "code",
   "execution_count": 23,
   "id": "53c8b3c9",
   "metadata": {},
   "outputs": [],
   "source": [
    "columnas_categoricas = df_final.select_dtypes(include=['object'])\n",
    "columnas_categoricas"
   ]
  },
  {
   "cell_type": "code",
   "execution_count": 24,
   "id": "fd4b9360",
   "metadata": {},
   "outputs": [],
   "source": [
    "columnas_categoricas.columns"
   ]
  },
  {
   "cell_type": "code",
   "execution_count": 25,
   "id": "d62a4e02",
   "metadata": {},
   "outputs": [],
   "source": [
    "columnas_categoricas['sector'].unique()"
   ]
  },
  {
   "cell_type": "code",
   "execution_count": 26,
   "id": "2093d751",
   "metadata": {},
   "outputs": [],
   "source": [
    "sector = columnas_categoricas.groupby(by=['sector']).count()\n",
    "#sector_ordenado = sector.sort_values(ascending=False)\n",
    "sector"
   ]
  },
  {
   "cell_type": "code",
   "execution_count": 27,
   "id": "b9c4f741",
   "metadata": {},
   "outputs": [],
   "source": [
    "columnas_categoricas['sector'].unique()"
   ]
  },
  {
   "cell_type": "code",
   "execution_count": 28,
   "id": "0ebf07a2",
   "metadata": {},
   "outputs": [],
   "source": [
    "import session_info\n",
    "\n",
    "session_info.show(html=False)"
   ]
  },
  {
   "cell_type": "code",
   "execution_count": null,
   "id": "c9cbf15d",
   "metadata": {},
   "outputs": [],
   "source": []
  }
 ],
 "metadata": {
  "kernelspec": {
   "display_name": "Python 3 (ipykernel)",
   "language": "python",
   "name": "python3"
  },
  "language_info": {
   "codemirror_mode": {
    "name": "ipython",
    "version": 3
   },
   "file_extension": ".py",
   "mimetype": "text/x-python",
   "name": "python",
   "nbconvert_exporter": "python",
   "pygments_lexer": "ipython3",
   "version": "3.11.5"
  }
 },
 "nbformat": 4,
 "nbformat_minor": 5
}
