{
 "cells": [
  {
   "cell_type": "markdown",
   "metadata": {},
   "source": [
    "# Notebook de descarga de información"
   ]
  },
  {
   "cell_type": "markdown",
   "metadata": {},
   "source": [
    "## Información de datos abiertos\n",
    "\n",
    "### `Explicación breve del conjunto de datos \"Copiar lo que dice el conjunto de datos\"`"
   ]
  },
  {
   "cell_type": "markdown",
   "metadata": {},
   "source": [
    "## Importar librerias"
   ]
  },
  {
   "cell_type": "code",
   "execution_count": 17,
   "metadata": {},
   "outputs": [],
   "source": [
    "# librerias base\n",
    "import math\n",
    "import os\n",
    "import shutil \n",
    "import sys\n",
    "\n",
    "#librerias externas\n",
    "import pandas as pd \n",
    "import numpy as np\n",
    "from sodapy import Socrata\n",
    "\n",
    "\n",
    "# librerias propias\n",
    "# Carpeta del proyecto\n",
    "dir_proyecto, _ = os.path.split(os.getcwd())\n",
    "sys.path.append(dir_proyecto)\n",
    "#from SCRIPTS.funciones import *\n"
   ]
  },
  {
   "cell_type": "code",
   "execution_count": 28,
   "metadata": {},
   "outputs": [],
   "source": [
    "\n",
    "\n",
    "def leer_parquet(carpeta,extension='parquet.gzip'):\n",
    "    \"\"\"\n",
    "    \n",
    "\n",
    "    Parameters\n",
    "    ----------\n",
    "    carpeta : TYPE\n",
    "        DESCRIPTION.\n",
    "    extension : TYPE, optional\n",
    "        DESCRIPTION. The default is 'parquet.gzip'.\n",
    "\n",
    "    Returns\n",
    "    -------\n",
    "    TYPE\n",
    "        DESCRIPTION.\n",
    "\n",
    "    \"\"\"\n",
    "    archivos_parquet = [f for f in os.listdir(f'{carpeta}') if extension in f]\n",
    "    data_frames = []\n",
    "    for archivo in archivos_parquet:\n",
    "        data_frames.append(pd.read_parquet(os.path.join(carpeta,archivo)))\n",
    "    return pd.concat(data_frames)\n",
    "\n",
    "def dimensionar_conjunto(id_conjunto, **kwargs):\n",
    "    \"\"\"\n",
    "    \n",
    "\n",
    "    Parameters\n",
    "    ----------\n",
    "    id_conjunto : TYPE\n",
    "        DESCRIPTION.\n",
    "\n",
    "    Returns\n",
    "    -------\n",
    "    TYPE\n",
    "        DESCRIPTION.\n",
    "\n",
    "    \"\"\"\n",
    "    where = kwargs.get('where', '')\n",
    "    client = cliente_socrata()\n",
    "    conteo = client.get(id_conjunto, select = \"count(1)\", where = where)\n",
    "    results_df = pd.DataFrame.from_records(conteo)\n",
    "    return int(results_df.iloc[0,0])\n",
    "\n",
    "\n",
    "def cliente_socrata(domain=\"www.datos.gov.co\",token='grLe4ysf5HvZXuFKeZJlGZL7b'):\n",
    "    \"\"\"\n",
    "    \n",
    "\n",
    "    Parameters\n",
    "    ----------\n",
    "    domain : TYPE, optional\n",
    "        DESCRIPTION. The default is \"www.datos.gov.co\".\n",
    "    token : TYPE, optional\n",
    "        DESCRIPTION. The default is 'grLe4ysf5HvZXuFKeZJlGZL7b'.\n",
    "\n",
    "    Returns\n",
    "    -------\n",
    "    client : TYPE\n",
    "        DESCRIPTION.\n",
    "\n",
    "    \"\"\"\n",
    "    client = Socrata(domain,token)\n",
    "    return client\n",
    "\n",
    "def consultar_conjunto_paginado(id_conjunto, limit, ordenar, offset, **kwards):\n",
    "    \"\"\"\n",
    "    \n",
    "\n",
    "    Parameters\n",
    "    ----------\n",
    "    id_conjunto : TYPE\n",
    "        DESCRIPTION.\n",
    "    limit : TYPE\n",
    "        DESCRIPTION.\n",
    "    ordenar : TYPE\n",
    "        DESCRIPTION.\n",
    "    offset : TYPE\n",
    "        DESCRIPTION.\n",
    "    **kwards : TYPE\n",
    "        DESCRIPTION.\n",
    "\n",
    "    Returns\n",
    "    -------\n",
    "    None.\n",
    "\n",
    "    \"\"\"\n",
    "    where = kwards.get('where', '')\n",
    "    client = cliente_socrata()\n",
    "    metadatos = consultar_metadata(id_conjunto)\n",
    "    results = client.get(id_conjunto, limit=limit, order=ordenar, offset=limit*offset, where =where)\n",
    "    results_df = pd.DataFrame.from_records(results)#\n",
    "    results_df.reindex(columns=metadatos)\n",
    "    results_df.to_parquet(f\"../INPUTS/Conjunto_{id_conjunto}_{offset}.parquet.gzip\")\n",
    "\n",
    "    \n",
    "def consultar_metadata(id_conjunto):\n",
    "    \"\"\"\n",
    "    \n",
    "\n",
    "    Parameters\n",
    "    ----------\n",
    "    id_conjunto : TYPE\n",
    "        DESCRIPTION.\n",
    "\n",
    "    Returns\n",
    "    -------\n",
    "    columns : TYPE\n",
    "        DESCRIPTION.\n",
    "\n",
    "    \"\"\"\n",
    "    client = cliente_socrata()\n",
    "    metadatos = client.get_metadata(id_conjunto)\n",
    "    columns = [x[\"fieldName\"] for x in metadatos[\"columns\"]]\n",
    "    return columns\n"
   ]
  },
  {
   "cell_type": "markdown",
   "metadata": {},
   "source": [
    "## Descargar información"
   ]
  },
  {
   "cell_type": "code",
   "execution_count": 29,
   "metadata": {},
   "outputs": [],
   "source": [
    "# Carpetas del proyecto\n",
    "\n",
    "try:\n",
    "    os.mkdir(os.path.join(dir_proyecto,'INPUTS'))\n",
    "except:\n",
    "    None\n",
    "\n",
    "try:\n",
    "    shutil.rmtree(os.path.join(dir_proyecto,'INPUTS'))\n",
    "except:\n",
    "    None\n",
    "os.mkdir(os.path.join(dir_proyecto,'INPUTS'))\n"
   ]
  },
  {
   "cell_type": "code",
   "execution_count": 30,
   "metadata": {},
   "outputs": [],
   "source": [
    "# parámetros de las funciones\n",
    "id_conjunto = 'jbjy-vk9h'\n",
    "limit = 5000\n",
    "ordenar = \"id_contrato\"\n",
    "# filtro sobre el conjunto. Año 2023 cuyo valor sea superior a cien millones de pesos\n",
    "where = \"fecha_de_firma>='2023-01-01T00:00:00.000' and valor_del_contrato >= 100000000\"\n"
   ]
  },
  {
   "cell_type": "code",
   "execution_count": 31,
   "metadata": {},
   "outputs": [
    {
     "data": {
      "text/plain": [
       "48359"
      ]
     },
     "execution_count": 31,
     "metadata": {},
     "output_type": "execute_result"
    }
   ],
   "source": [
    "tamanio_conjunto = dimensionar_conjunto(id_conjunto, where=where)\n",
    "tamanio_conjunto"
   ]
  },
  {
   "cell_type": "code",
   "execution_count": null,
   "metadata": {},
   "outputs": [],
   "source": [
    "loops = math.ceil(tamanio_conjunto/limit)\n",
    "\n",
    "for offset in range (loops):\n",
    "    consultar_conjunto_paginado(id_conjunto, limit, ordenar, offset, where = where)\n",
    "\n"
   ]
  },
  {
   "cell_type": "markdown",
   "metadata": {},
   "source": [
    "## Probar la lectura de los datos\n"
   ]
  },
  {
   "cell_type": "code",
   "execution_count": null,
   "metadata": {},
   "outputs": [],
   "source": [
    "contratacion = leer_parquet(os.path.join(dir_proyecto,'INPUTS'))\n",
    "contratacion"
   ]
  },
  {
   "cell_type": "code",
   "execution_count": null,
   "metadata": {},
   "outputs": [],
   "source": []
  }
 ],
 "metadata": {
  "kernelspec": {
   "display_name": "Python 3 (ipykernel)",
   "language": "python",
   "name": "python3"
  },
  "language_info": {
   "codemirror_mode": {
    "name": "ipython",
    "version": 3
   },
   "file_extension": ".py",
   "mimetype": "text/x-python",
   "name": "python",
   "nbconvert_exporter": "python",
   "pygments_lexer": "ipython3",
   "version": "3.11.3"
  }
 },
 "nbformat": 4,
 "nbformat_minor": 2
}
